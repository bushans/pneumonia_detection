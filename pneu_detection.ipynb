{
  "nbformat": 4,
  "nbformat_minor": 0,
  "metadata": {
    "colab": {
      "name": "pneu_detection.ipynb",
      "provenance": [],
      "collapsed_sections": [],
      "toc_visible": true,
      "include_colab_link": true
    },
    "kernelspec": {
      "name": "python3",
      "display_name": "Python 3"
    }
  },
  "cells": [
    {
      "cell_type": "markdown",
      "metadata": {
        "id": "view-in-github",
        "colab_type": "text"
      },
      "source": [
        "<a href=\"https://colab.research.google.com/github/bushans/pneumonia_detection/blob/master/pneu_detection.ipynb\" target=\"_parent\"><img src=\"https://colab.research.google.com/assets/colab-badge.svg\" alt=\"Open In Colab\"/></a>"
      ]
    },
    {
      "cell_type": "markdown",
      "metadata": {
        "id": "hoY352hKX6lt",
        "colab_type": "text"
      },
      "source": [
        "# **Import libraries and dependencies**"
      ]
    },
    {
      "cell_type": "code",
      "metadata": {
        "id": "47IfT7VjYelE",
        "colab_type": "code",
        "outputId": "c7e0d012-0588-4a9c-82de-40099e7bab54",
        "colab": {
          "base_uri": "https://localhost:8080/",
          "height": 34
        }
      },
      "source": [
        "import sys\n",
        "import os\n",
        "import argparse\n",
        "\n",
        "import random\n",
        "\n",
        "import time\n",
        "import datetime\n",
        "\n",
        "from collections import Counter\n",
        "\n",
        "import numpy as np\n",
        "import pandas as pd\n",
        "\n",
        "import shutil\n",
        "from tqdm import tqdm\n",
        "\n",
        "import inspect\n",
        "import gc\n",
        "\n",
        "import re\n",
        "\n",
        "from PIL import Image\n",
        "import cv2\n",
        "\n",
        "import keras\n",
        "\n",
        "from keras.utils import np_utils\n",
        "\n",
        "from keras.preprocessing.image import ImageDataGenerator\n",
        "\n",
        "from keras import models\n",
        "from keras.models import Model\n",
        "from keras.models import Sequential\n",
        "from keras.layers import Conv2D, Activation, MaxPooling2D, Dropout, GlobalAveragePooling1D, GlobalAveragePooling2D, Flatten, BatchNormalization, Dense\n",
        "\n",
        "\n",
        "from keras.applications.inception_v3 import InceptionV3\n",
        "\n",
        "\n",
        "from keras.constraints import maxnorm\n",
        "\n",
        "\n",
        "from keras import optimizers\n",
        "from keras.optimizers import Adam, SGD , RMSprop\n",
        "\n",
        "\n",
        "from keras import backend as K\n",
        "K.tensorflow_backend.set_image_dim_ordering('th')\n",
        "\n",
        "from keras.callbacks import ModelCheckpoint, EarlyStopping, TensorBoard, ReduceLROnPlateau\n",
        "\n",
        "from keras.wrappers.scikit_learn import KerasClassifier\n",
        "\n",
        "\n",
        "from sklearn.metrics import precision_score, recall_score, f1_score, roc_auc_score, confusion_matrix, classification_report\n",
        "\n",
        "\n",
        "from mlxtend.plotting import plot_confusion_matrix\n",
        "\n",
        "import tensorflow as tf\n",
        "\n",
        "\n",
        "\n",
        "from IPython.display import display\n",
        "\n",
        "import seaborn as sns\n",
        "\n",
        "from matplotlib.pyplot import figure\n",
        "import matplotlib.pyplot as plt\n",
        "import matplotlib.image as mpimg\n",
        "\n",
        "%matplotlib inline\n"
      ],
      "execution_count": 0,
      "outputs": [
        {
          "output_type": "stream",
          "text": [
            "Using TensorFlow backend.\n"
          ],
          "name": "stderr"
        }
      ]
    },
    {
      "cell_type": "code",
      "metadata": {
        "id": "71hdsQRWbB1v",
        "colab_type": "code",
        "colab": {}
      },
      "source": [
        "# Creates directory, if directory exists removes if remove parameter is set to True \n",
        "def create_directory(directory_path, remove=False):\n",
        "    if remove and os.path.exists(directory_path):\n",
        "        try:\n",
        "            shutil.rmtree(directory_path)\n",
        "            os.mkdir(directory_path)\n",
        "        except:\n",
        "            print(\"Could not remove directory : \", directory_path)\n",
        "            return False\n",
        "    else:\n",
        "        try:\n",
        "            os.mkdir(directory_path)\n",
        "        except:\n",
        "            print(\"Could not create directory: \", directory_path)\n",
        "            return False\n",
        "        \n",
        "    return True\n",
        "\n",
        "# Removes directory, if directory exists \n",
        "def remove_directory(directory_path):\n",
        "    if os.path.exists(directory_path):\n",
        "        try:\n",
        "            shutil.rmtree(directory_path)\n",
        "        except:\n",
        "            print(\"Could not remove directory : \", directory_path)\n",
        "            return False\n",
        "        \n",
        "    return True\n",
        "\n",
        "def clear_directory(directory_path):\n",
        "    dirs_files = os.listdir(directory_path)\n",
        "    \n",
        "    for item in dirs_files:\n",
        "#         item_path = os.path.join(directory_path, item)\n",
        "        item_path = directory_path+ item\n",
        "        \n",
        "        try:\n",
        "            if os.path.isfile(item_path):\n",
        "                os.unlink(item_path)\n",
        "            elif os.path.isdir(item_path): \n",
        "                shutil.rmtree(item_path)\n",
        "        except Exception as e:\n",
        "            print(e)\n",
        "            \n",
        "    return True\n",
        "\n",
        "\n",
        "def remove_empty_folders(path, removeRoot=True):\n",
        "    if not os.path.isdir(path):\n",
        "        return\n",
        "    \n",
        "    # remove empty subfolders\n",
        "    files = os.listdir(path)\n",
        "    \n",
        "    if len(files):\n",
        "        for f in files:\n",
        "            fullpath = os.path.join(path, f)\n",
        "            \n",
        "            if os.path.isdir(fullpath):\n",
        "                remove_empty_folders(fullpath)\n",
        "\n",
        "    # if folder empty, delete it\n",
        "    files = os.listdir(path)\n",
        "    \n",
        "    if len(files) == 0 and removeRoot:\n",
        "        print(\"Removing empty folder:\", path)\n",
        "        os.rmdir(path)\n",
        "        \n",
        "        \n",
        "def dir_file_count(directory):\n",
        "    return sum([len(files) for r, d, files in os.walk(directory)])"
      ],
      "execution_count": 0,
      "outputs": []
    },
    {
      "cell_type": "code",
      "metadata": {
        "id": "xLM-ibX5bz64",
        "colab_type": "code",
        "colab": {}
      },
      "source": [
        "# print date and time for given type of representation\n",
        "def date_time(x):\n",
        "    if x==1:\n",
        "        return 'Timestamp: {:%Y-%m-%d %H:%M:%S}'.format(datetime.datetime.now())\n",
        "    if x==2:    \n",
        "        return 'Timestamp: {:%Y-%b-%d %H:%M:%S}'.format(datetime.datetime.now())\n",
        "    if x==3:  \n",
        "        return 'Date now: %s' % datetime.datetime.now()\n",
        "    if x==4:  \n",
        "        return 'Date today: %s' % datetime.date.today()"
      ],
      "execution_count": 0,
      "outputs": []
    },
    {
      "cell_type": "code",
      "metadata": {
        "id": "VIfHFC-DcDU_",
        "colab_type": "code",
        "colab": {}
      },
      "source": [
        "# prints a integer for degugging\n",
        "def debug(x):\n",
        "    print(\"-\"*40, x, \"-\"*40)"
      ],
      "execution_count": 0,
      "outputs": []
    },
    {
      "cell_type": "code",
      "metadata": {
        "id": "V3qBo4QdcJL8",
        "colab_type": "code",
        "colab": {}
      },
      "source": [
        "# Removes everything except alphabetical and selected characters from name string\n",
        "def name_correct(name):\n",
        "    return re.sub(r'[^a-zA-Z,:]', ' ', name).title()"
      ],
      "execution_count": 0,
      "outputs": []
    },
    {
      "cell_type": "markdown",
      "metadata": {
        "id": "5dvsTCzLcYNb",
        "colab_type": "text"
      },
      "source": [
        "\n",
        "# **Data Visualization Function**"
      ]
    },
    {
      "cell_type": "code",
      "metadata": {
        "id": "1TGFDzVwcbNv",
        "colab_type": "code",
        "colab": {}
      },
      "source": [
        "def get_reset_subplot_params(nrows, ncols, dpi):\n",
        "    subplot_params = {}\n",
        "    subplot_params[\"nrows\"] = nrows\n",
        "    subplot_params[\"ncols\"] = ncols\n",
        "\n",
        "    subplot_params[\"figsize_col\"] = subplot_params[\"ncols\"]*2.5\n",
        "    subplot_params[\"figsize_row\"] = subplot_params[\"nrows\"]*2.5\n",
        "    subplot_params[\"dpi\"] = dpi\n",
        "    subplot_params[\"facecolor\"] = 'w'\n",
        "    subplot_params[\"edgecolor\"] = 'k'\n",
        "    subplot_params[\"subplot_kw\"] = {'xticks': [], 'yticks': []}\n",
        "    subplot_params[\"axes.titlesize\"] = 'small'\n",
        "    subplot_params[\"hspace\"] = 0.5\n",
        "    subplot_params[\"wspace\"] = 0.3\n",
        "    \n",
        "    return subplot_params\n",
        "\n",
        "def get_reset_plot_params(figsize=(15, 5), title=\"\", xlabel =\"\", ylabel=\"\", legends=[], title_fontsize = 18, label_fontsize = 14, image_file_name=\"\", save = False, dpi=100, update_image=True):\n",
        "    plot_params = {}\n",
        "    \n",
        "    plot_params[\"figsize\"] = figsize\n",
        "    \n",
        "    plot_params[\"title\"] = title\n",
        "    \n",
        "    plot_params[\"xlabel\"] = xlabel\n",
        "    plot_params[\"ylabel\"] = ylabel\n",
        "    \n",
        "    plot_params[\"legends\"] = legends \n",
        "    \n",
        "    plot_params[\"title_fontsize\"] = title_fontsize\n",
        "    plot_params[\"axes.titlesize\"] = \"small\"\n",
        "    plot_params[\"label_fontsize\"] = label_fontsize\n",
        "    \n",
        "    plot_params[\"image_file_name\"] = image_file_name\n",
        "    plot_params[\"save\"] = save\n",
        "    plot_params[\"update_image\"] = update_image\n",
        "    \n",
        "    plot_params[\"subplot\"] = None\n",
        "    return plot_params"
      ],
      "execution_count": 0,
      "outputs": []
    },
    {
      "cell_type": "code",
      "metadata": {
        "id": "tjYxZrTpcuwL",
        "colab_type": "code",
        "colab": {}
      },
      "source": [
        "def select_image_by_category(image_dir, image_count_per_category):\n",
        "    classes = os.listdir(image_dir)\n",
        "    class_count = len(classes)\n",
        "    \n",
        "    image_file_paths = {}\n",
        "    \n",
        "    for i in range(class_count):\n",
        "        # subdir_path = image_dir+\"/\"+classes[i]\n",
        "        subdir_path = image_dir+\"/\"\n",
        "        subdir_files = os.listdir(subdir_path)\n",
        "\n",
        "        subdir_file_count = len(subdir_files)\n",
        "\n",
        "        subdir_file_mem = {}\n",
        "        \n",
        "        subdir_file_index = -1\n",
        "        \n",
        "        image_file_paths[classes[i]] = []\n",
        "        \n",
        "        for j in range(image_count_per_category):\n",
        "            while subdir_file_index in subdir_file_mem:\n",
        "                subdir_file_index = random.randint(0, subdir_file_count-1)\n",
        "                \n",
        "            subdir_file_mem[subdir_file_index] = 1\n",
        "            \n",
        "            subdir_file_name = subdir_files[subdir_file_index]\n",
        "            subdir_file_path = subdir_path+ \"/\" + subdir_file_name\n",
        "\n",
        "            image_file_paths[classes[i]].append(subdir_file_path)\n",
        "            \n",
        "    return image_file_paths\n",
        "\n",
        "\n",
        "def get_fig_axs(subplot_params):\n",
        "    fig, axs = plt.subplots(\n",
        "        nrows=subplot_params[\"nrows\"], ncols=subplot_params[\"ncols\"], \n",
        "        figsize=(subplot_params[\"figsize_col\"], subplot_params[\"figsize_row\"]),\n",
        "        dpi=subplot_params[\"dpi\"], facecolor=subplot_params[\"facecolor\"], \n",
        "        edgecolor=subplot_params[\"edgecolor\"], subplot_kw=subplot_params[\"subplot_kw\"])\n",
        "        \n",
        "    return fig, axs\n",
        "    \n",
        "\n",
        "def plot_sample_image(image_file_paths, plot_params, subplot_params, update_image=True):\n",
        "    fig, axs = get_fig_axs(subplot_params)\n",
        "\n",
        "    plt.rcParams.update({'axes.titlesize': plot_params[\"axes.titlesize\"]})\n",
        "    plt.subplots_adjust(hspace=subplot_params[\"hspace\"], wspace=subplot_params[\"wspace\"])\n",
        "\n",
        "\n",
        "    i=0\n",
        "    for img_filepath in image_file_paths:\n",
        "        img = cv2.imread(img_filepath, 1)\n",
        "        plt.title(img_filepath.split(\"/\")[-1])\n",
        "        plt.subplot(subplot_params[\"nrows\"], subplot_params[\"ncols\"], i+1)\n",
        "        plt.imshow(img)\n",
        "        \n",
        "        plt.xticks([])\n",
        "        plt.yticks([])\n",
        "        \n",
        "        i=i+1\n",
        "        \n",
        "    if plot_params[\"update_image\"] and os.path.exists(plot_params[\"image_file_name\"]):\n",
        "        os.remove(plot_params[\"image_file_name\"])  \n",
        "    if plot_params[\"save\"]:\n",
        "        fig.savefig(plot_params[\"image_file_name\"], dpi=plot_params[\"dpi\"])\n",
        "        \n",
        "    plt.tight_layout()\n",
        "    plt.show()\n",
        "    \n",
        "    \n",
        "def show_class_sample_images(directory, image_count_per_category=5, save=False, dpi=100, update_image=False):\n",
        "    class_count = len(os.listdir(directory))\n",
        "    # print(\"Number of Class: \", class_count)\n",
        "    sample_img_by_class = select_image_by_category(directory, image_count_per_category)\n",
        "    for class_name in sample_img_by_class:\n",
        "        plot_params = get_reset_plot_params(image_file_name=\"img.png\", save = save, dpi=dpi, update_image=update_image)\n",
        "        subplot_params = get_reset_subplot_params(nrows=1, ncols=image_count_per_category, dpi=dpi)\n",
        "        # print(\"%s%s%s\"%(\"-\"*55, name_correct(class_name), \"-\"*55))\n",
        "        plot_sample_image(sample_img_by_class[class_name], plot_params, subplot_params)\n",
        "        print(\"\")\n",
        "    # print(\"%s%s%d%s\"%(\"-\"*55, \"All Class Printed:\", class_count, \"-\"*55))"
      ],
      "execution_count": 0,
      "outputs": []
    },
    {
      "cell_type": "code",
      "metadata": {
        "id": "uImzKiUxc-dw",
        "colab_type": "code",
        "colab": {}
      },
      "source": [
        "# count number of files in each subdirectory of a directory\n",
        "def subdirectory_file_count(master_directory):\n",
        "    subdirectories = os.listdir(master_directory)\n",
        "    subdirectory_count = len(subdirectories)\n",
        "\n",
        "    subdirectory_names = []\n",
        "    subdirectory_file_counts = []\n",
        "\n",
        "    for subdirectory in subdirectories:\n",
        "        current_directory = os.path.join(master_directory, subdirectory)\n",
        "        file_count = len(os.listdir(current_directory))\n",
        "        subdirectory_names.append(subdirectory)\n",
        "        subdirectory_file_counts.append(file_count)\n",
        "    \n",
        "    return subdirectory_names, subdirectory_file_counts\n",
        "         \n",
        "    \n",
        "\n",
        "# show barplot\n",
        "def bar_plot(x, y, plot_property):\n",
        "    if plot_property['subplot']:\n",
        "        plt.subplot(plot_property['subplot'])\n",
        "    sns.barplot(x=x, y=y)\n",
        "    plt.title(plot_property['title'], fontsize=plot_property['title_fontsize'])\n",
        "    plt.xlabel(plot_property['xlabel'], fontsize=plot_property['label_fontsize'])\n",
        "    plt.ylabel(plot_property['ylabel'], fontsize=plot_property['label_fontsize'])\n",
        "    plt.xticks(range(len(x)), x)\n",
        "    \n",
        "# show bar plot for count of labels in subdirectory of a directory\n",
        "def count_bar_plot(master_directory, plot_property):\n",
        "    dir_name, dir_file_count = subdirectory_file_count(master_directory)\n",
        "    x = [name_correct(i) for i in dir_name]\n",
        "    # x = dir_name\n",
        "    y = dir_file_count\n",
        "    bar_plot(x, y, plot_property)\n",
        "    \n",
        "    \n",
        "# show bar plot for count of labels in subdirectory of a training, validation, testing directory    \n",
        "def show_train_val_test(training_dir, validation_dir, testing_dir, plot_property):\n",
        "    plt.figure(figsize=plot_property['figsize'])\n",
        "    \n",
        "    title = plot_property['title']\n",
        "    plot_property['title'] = title + \" (Training)\"\n",
        "    subplot_no = plot_property['subplot'] \n",
        "\n",
        "    count_bar_plot(training_dir, plot_property)\n",
        "    \n",
        "    \n",
        "    plot_property['title'] = title + \" (Validation)\"\n",
        "    plot_property['subplot'] = subplot_no+1\n",
        "    count_bar_plot(validation_dir, plot_property)\n",
        "    \n",
        "    \n",
        "    plot_property['title'] = title + \" (Testing)\"\n",
        "    plot_property['subplot'] = subplot_no + 2\n",
        "    count_bar_plot(testing_dir, plot_property)\n",
        "    \n",
        "    plt.show()"
      ],
      "execution_count": 0,
      "outputs": []
    },
    {
      "cell_type": "code",
      "metadata": {
        "id": "bZvW2IAvdGR2",
        "colab_type": "code",
        "colab": {}
      },
      "source": [
        "# reset tensorflow graph tp free up memory and resource allocation \n",
        "def reset_graph(model=None):\n",
        "    if model:\n",
        "        try:\n",
        "            del model\n",
        "        except:\n",
        "            return False\n",
        "    \n",
        "    tf.reset_default_graph()\n",
        "    \n",
        "    K.clear_session()\n",
        "    \n",
        "    gc.collect()\n",
        "    \n",
        "    return True\n",
        "\n",
        "\n",
        "# reset callbacks \n",
        "def reset_callbacks(checkpoint=None, reduce_lr=None, early_stopping=None, tensorboard=None):\n",
        "    checkpoint = None\n",
        "    reduce_lr = None\n",
        "    early_stopping = None\n",
        "    tensorboard = None"
      ],
      "execution_count": 0,
      "outputs": []
    },
    {
      "cell_type": "markdown",
      "metadata": {
        "id": "NTZa-EyOdRsl",
        "colab_type": "text"
      },
      "source": [
        "# **Preprocessing**"
      ]
    },
    {
      "cell_type": "code",
      "metadata": {
        "id": "3vGsv8YgdTp_",
        "colab_type": "code",
        "outputId": "59983fbe-157b-4e45-944d-454910cd1045",
        "colab": {
          "base_uri": "https://localhost:8080/",
          "height": 139
        }
      },
      "source": [
        "reset_graph()\n",
        "reset_callbacks()"
      ],
      "execution_count": 0,
      "outputs": [
        {
          "output_type": "stream",
          "text": [
            "WARNING:tensorflow:From /usr/local/lib/python3.6/dist-packages/keras/backend/tensorflow_backend.py:107: The name tf.reset_default_graph is deprecated. Please use tf.compat.v1.reset_default_graph instead.\n",
            "\n",
            "WARNING:tensorflow:From /usr/local/lib/python3.6/dist-packages/keras/backend/tensorflow_backend.py:111: The name tf.placeholder_with_default is deprecated. Please use tf.compat.v1.placeholder_with_default instead.\n",
            "\n",
            "WARNING:tensorflow:From /usr/local/lib/python3.6/dist-packages/keras/backend/tensorflow_backend.py:66: The name tf.get_default_graph is deprecated. Please use tf.compat.v1.get_default_graph instead.\n",
            "\n"
          ],
          "name": "stdout"
        }
      ]
    },
    {
      "cell_type": "code",
      "metadata": {
        "id": "r0vSTV4fdcUY",
        "colab_type": "code",
        "outputId": "122bb1e0-835d-4c27-cdef-a546c11630d4",
        "colab": {
          "base_uri": "https://localhost:8080/",
          "height": 71
        }
      },
      "source": [
        "from google.colab import drive\n",
        "drive.mount('/content/drive')\n",
        "%cd \"/content/drive/My Drive/Colab Notebooks/sirmlproject/wk4\"\n",
        "\n",
        "# Configure input/ output directory\n",
        "# Configure training, validation, testing directory\n",
        "\n",
        "input_directory = r\"data/input/\"\n",
        "output_directory = r\"data/output/\"\n",
        "\n",
        "training_dir = input_directory + r\"train\"\n",
        "validation_dir = input_directory + r\"val\"\n",
        "testing_dir = input_directory + r\"test\"\n",
        "\n",
        "\n",
        "figure_directory = r\"data/output/figures\"\n",
        "\n",
        "figure_directory = \"data/output/figures\"\n",
        "if not os.path.exists(figure_directory):\n",
        "    os.mkdir(figure_directory)\n",
        "    \n",
        "    \n",
        "file_name_pred_batch = figure_directory+r\"/result\"\n",
        "file_name_pred_sample = figure_directory+r\"/sample\""
      ],
      "execution_count": 0,
      "outputs": [
        {
          "output_type": "stream",
          "text": [
            "Drive already mounted at /content/drive; to attempt to forcibly remount, call drive.mount(\"/content/drive\", force_remount=True).\n",
            "/content/drive/My Drive/Colab Notebooks/sirmlproject/wk4\n"
          ],
          "name": "stdout"
        }
      ]
    },
    {
      "cell_type": "code",
      "metadata": {
        "id": "kx0ezWJOgYu0",
        "colab_type": "code",
        "colab": {}
      },
      "source": [
        "# %cd \"/content/drive/My Drive/Colab Notebooks/sirmlproject/wk4/data/input/train\"\n",
        "# !pwd\n",
        "# !unzip stage_2_train_images.zip\n",
        "# !unzip stage_2_train_labels.csv.zip"
      ],
      "execution_count": 0,
      "outputs": []
    },
    {
      "cell_type": "code",
      "metadata": {
        "id": "Ohk_hknnhpkB",
        "colab_type": "code",
        "outputId": "96dc1070-af6c-42b0-ae59-2c5e6a6645a6",
        "colab": {
          "base_uri": "https://localhost:8080/",
          "height": 562
        }
      },
      "source": [
        "# %cd \"/content/drive/My Drive/Colab Notebooks/sirmlproject/wk4\"\n",
        "# !pwd\n",
        "show_class_sample_images(training_dir, image_count_per_category=5, save=False, dpi=100, update_image=False)"
      ],
      "execution_count": 0,
      "outputs": [
        {
          "output_type": "error",
          "ename": "TypeError",
          "evalue": "ignored",
          "traceback": [
            "\u001b[0;31m---------------------------------------------------------------------------\u001b[0m",
            "\u001b[0;31mTypeError\u001b[0m                                 Traceback (most recent call last)",
            "\u001b[0;32m<ipython-input-15-db11cab2ecde>\u001b[0m in \u001b[0;36m<module>\u001b[0;34m()\u001b[0m\n\u001b[0;32m----> 1\u001b[0;31m \u001b[0mshow_class_sample_images\u001b[0m\u001b[0;34m(\u001b[0m\u001b[0mtraining_dir\u001b[0m\u001b[0;34m,\u001b[0m \u001b[0mimage_count_per_category\u001b[0m\u001b[0;34m=\u001b[0m\u001b[0;36m5\u001b[0m\u001b[0;34m,\u001b[0m \u001b[0msave\u001b[0m\u001b[0;34m=\u001b[0m\u001b[0;32mFalse\u001b[0m\u001b[0;34m,\u001b[0m \u001b[0mdpi\u001b[0m\u001b[0;34m=\u001b[0m\u001b[0;36m100\u001b[0m\u001b[0;34m,\u001b[0m \u001b[0mupdate_image\u001b[0m\u001b[0;34m=\u001b[0m\u001b[0;32mFalse\u001b[0m\u001b[0;34m)\u001b[0m\u001b[0;34m\u001b[0m\u001b[0;34m\u001b[0m\u001b[0m\n\u001b[0m",
            "\u001b[0;32m<ipython-input-14-e8af5c785f75>\u001b[0m in \u001b[0;36mshow_class_sample_images\u001b[0;34m(directory, image_count_per_category, save, dpi, update_image)\u001b[0m\n\u001b[1;32m     78\u001b[0m         \u001b[0msubplot_params\u001b[0m \u001b[0;34m=\u001b[0m \u001b[0mget_reset_subplot_params\u001b[0m\u001b[0;34m(\u001b[0m\u001b[0mnrows\u001b[0m\u001b[0;34m=\u001b[0m\u001b[0;36m1\u001b[0m\u001b[0;34m,\u001b[0m \u001b[0mncols\u001b[0m\u001b[0;34m=\u001b[0m\u001b[0mimage_count_per_category\u001b[0m\u001b[0;34m,\u001b[0m \u001b[0mdpi\u001b[0m\u001b[0;34m=\u001b[0m\u001b[0mdpi\u001b[0m\u001b[0;34m)\u001b[0m\u001b[0;34m\u001b[0m\u001b[0;34m\u001b[0m\u001b[0m\n\u001b[1;32m     79\u001b[0m         \u001b[0;31m# print(\"%s%s%s\"%(\"-\"*55, name_correct(class_name), \"-\"*55))\u001b[0m\u001b[0;34m\u001b[0m\u001b[0;34m\u001b[0m\u001b[0;34m\u001b[0m\u001b[0m\n\u001b[0;32m---> 80\u001b[0;31m         \u001b[0mplot_sample_image\u001b[0m\u001b[0;34m(\u001b[0m\u001b[0msample_img_by_class\u001b[0m\u001b[0;34m[\u001b[0m\u001b[0mclass_name\u001b[0m\u001b[0;34m]\u001b[0m\u001b[0;34m,\u001b[0m \u001b[0mplot_params\u001b[0m\u001b[0;34m,\u001b[0m \u001b[0msubplot_params\u001b[0m\u001b[0;34m)\u001b[0m\u001b[0;34m\u001b[0m\u001b[0;34m\u001b[0m\u001b[0m\n\u001b[0m\u001b[1;32m     81\u001b[0m         \u001b[0mprint\u001b[0m\u001b[0;34m(\u001b[0m\u001b[0;34m\"\"\u001b[0m\u001b[0;34m)\u001b[0m\u001b[0;34m\u001b[0m\u001b[0;34m\u001b[0m\u001b[0m\n\u001b[1;32m     82\u001b[0m     \u001b[0;31m# print(\"%s%s%d%s\"%(\"-\"*55, \"All Class Printed:\", class_count, \"-\"*55))\u001b[0m\u001b[0;34m\u001b[0m\u001b[0;34m\u001b[0m\u001b[0;34m\u001b[0m\u001b[0m\n",
            "\u001b[0;32m<ipython-input-14-e8af5c785f75>\u001b[0m in \u001b[0;36mplot_sample_image\u001b[0;34m(image_file_paths, plot_params, subplot_params, update_image)\u001b[0m\n\u001b[1;32m     54\u001b[0m         \u001b[0mplt\u001b[0m\u001b[0;34m.\u001b[0m\u001b[0mtitle\u001b[0m\u001b[0;34m(\u001b[0m\u001b[0mimg_filepath\u001b[0m\u001b[0;34m.\u001b[0m\u001b[0msplit\u001b[0m\u001b[0;34m(\u001b[0m\u001b[0;34m\"/\"\u001b[0m\u001b[0;34m)\u001b[0m\u001b[0;34m[\u001b[0m\u001b[0;34m-\u001b[0m\u001b[0;36m1\u001b[0m\u001b[0;34m]\u001b[0m\u001b[0;34m)\u001b[0m\u001b[0;34m\u001b[0m\u001b[0;34m\u001b[0m\u001b[0m\n\u001b[1;32m     55\u001b[0m         \u001b[0mplt\u001b[0m\u001b[0;34m.\u001b[0m\u001b[0msubplot\u001b[0m\u001b[0;34m(\u001b[0m\u001b[0msubplot_params\u001b[0m\u001b[0;34m[\u001b[0m\u001b[0;34m\"nrows\"\u001b[0m\u001b[0;34m]\u001b[0m\u001b[0;34m,\u001b[0m \u001b[0msubplot_params\u001b[0m\u001b[0;34m[\u001b[0m\u001b[0;34m\"ncols\"\u001b[0m\u001b[0;34m]\u001b[0m\u001b[0;34m,\u001b[0m \u001b[0mi\u001b[0m\u001b[0;34m+\u001b[0m\u001b[0;36m1\u001b[0m\u001b[0;34m)\u001b[0m\u001b[0;34m\u001b[0m\u001b[0;34m\u001b[0m\u001b[0m\n\u001b[0;32m---> 56\u001b[0;31m         \u001b[0mplt\u001b[0m\u001b[0;34m.\u001b[0m\u001b[0mimshow\u001b[0m\u001b[0;34m(\u001b[0m\u001b[0mimg\u001b[0m\u001b[0;34m)\u001b[0m\u001b[0;34m\u001b[0m\u001b[0;34m\u001b[0m\u001b[0m\n\u001b[0m\u001b[1;32m     57\u001b[0m \u001b[0;34m\u001b[0m\u001b[0m\n\u001b[1;32m     58\u001b[0m         \u001b[0mplt\u001b[0m\u001b[0;34m.\u001b[0m\u001b[0mxticks\u001b[0m\u001b[0;34m(\u001b[0m\u001b[0;34m[\u001b[0m\u001b[0;34m]\u001b[0m\u001b[0;34m)\u001b[0m\u001b[0;34m\u001b[0m\u001b[0;34m\u001b[0m\u001b[0m\n",
            "\u001b[0;32m/usr/local/lib/python3.6/dist-packages/matplotlib/pyplot.py\u001b[0m in \u001b[0;36mimshow\u001b[0;34m(X, cmap, norm, aspect, interpolation, alpha, vmin, vmax, origin, extent, shape, filternorm, filterrad, imlim, resample, url, data, **kwargs)\u001b[0m\n\u001b[1;32m   2697\u001b[0m         \u001b[0mfilternorm\u001b[0m\u001b[0;34m=\u001b[0m\u001b[0mfilternorm\u001b[0m\u001b[0;34m,\u001b[0m \u001b[0mfilterrad\u001b[0m\u001b[0;34m=\u001b[0m\u001b[0mfilterrad\u001b[0m\u001b[0;34m,\u001b[0m \u001b[0mimlim\u001b[0m\u001b[0;34m=\u001b[0m\u001b[0mimlim\u001b[0m\u001b[0;34m,\u001b[0m\u001b[0;34m\u001b[0m\u001b[0;34m\u001b[0m\u001b[0m\n\u001b[1;32m   2698\u001b[0m         resample=resample, url=url, **({\"data\": data} if data is not\n\u001b[0;32m-> 2699\u001b[0;31m         None else {}), **kwargs)\n\u001b[0m\u001b[1;32m   2700\u001b[0m     \u001b[0msci\u001b[0m\u001b[0;34m(\u001b[0m\u001b[0m__ret\u001b[0m\u001b[0;34m)\u001b[0m\u001b[0;34m\u001b[0m\u001b[0;34m\u001b[0m\u001b[0m\n\u001b[1;32m   2701\u001b[0m     \u001b[0;32mreturn\u001b[0m \u001b[0m__ret\u001b[0m\u001b[0;34m\u001b[0m\u001b[0;34m\u001b[0m\u001b[0m\n",
            "\u001b[0;32m/usr/local/lib/python3.6/dist-packages/matplotlib/__init__.py\u001b[0m in \u001b[0;36minner\u001b[0;34m(ax, data, *args, **kwargs)\u001b[0m\n\u001b[1;32m   1808\u001b[0m                         \u001b[0;34m\"the Matplotlib list!)\"\u001b[0m \u001b[0;34m%\u001b[0m \u001b[0;34m(\u001b[0m\u001b[0mlabel_namer\u001b[0m\u001b[0;34m,\u001b[0m \u001b[0mfunc\u001b[0m\u001b[0;34m.\u001b[0m\u001b[0m__name__\u001b[0m\u001b[0;34m)\u001b[0m\u001b[0;34m,\u001b[0m\u001b[0;34m\u001b[0m\u001b[0;34m\u001b[0m\u001b[0m\n\u001b[1;32m   1809\u001b[0m                         RuntimeWarning, stacklevel=2)\n\u001b[0;32m-> 1810\u001b[0;31m             \u001b[0;32mreturn\u001b[0m \u001b[0mfunc\u001b[0m\u001b[0;34m(\u001b[0m\u001b[0max\u001b[0m\u001b[0;34m,\u001b[0m \u001b[0;34m*\u001b[0m\u001b[0margs\u001b[0m\u001b[0;34m,\u001b[0m \u001b[0;34m**\u001b[0m\u001b[0mkwargs\u001b[0m\u001b[0;34m)\u001b[0m\u001b[0;34m\u001b[0m\u001b[0;34m\u001b[0m\u001b[0m\n\u001b[0m\u001b[1;32m   1811\u001b[0m \u001b[0;34m\u001b[0m\u001b[0m\n\u001b[1;32m   1812\u001b[0m         inner.__doc__ = _add_data_doc(inner.__doc__,\n",
            "\u001b[0;32m/usr/local/lib/python3.6/dist-packages/matplotlib/axes/_axes.py\u001b[0m in \u001b[0;36mimshow\u001b[0;34m(self, X, cmap, norm, aspect, interpolation, alpha, vmin, vmax, origin, extent, shape, filternorm, filterrad, imlim, resample, url, **kwargs)\u001b[0m\n\u001b[1;32m   5492\u001b[0m                               resample=resample, **kwargs)\n\u001b[1;32m   5493\u001b[0m \u001b[0;34m\u001b[0m\u001b[0m\n\u001b[0;32m-> 5494\u001b[0;31m         \u001b[0mim\u001b[0m\u001b[0;34m.\u001b[0m\u001b[0mset_data\u001b[0m\u001b[0;34m(\u001b[0m\u001b[0mX\u001b[0m\u001b[0;34m)\u001b[0m\u001b[0;34m\u001b[0m\u001b[0;34m\u001b[0m\u001b[0m\n\u001b[0m\u001b[1;32m   5495\u001b[0m         \u001b[0mim\u001b[0m\u001b[0;34m.\u001b[0m\u001b[0mset_alpha\u001b[0m\u001b[0;34m(\u001b[0m\u001b[0malpha\u001b[0m\u001b[0;34m)\u001b[0m\u001b[0;34m\u001b[0m\u001b[0;34m\u001b[0m\u001b[0m\n\u001b[1;32m   5496\u001b[0m         \u001b[0;32mif\u001b[0m \u001b[0mim\u001b[0m\u001b[0;34m.\u001b[0m\u001b[0mget_clip_path\u001b[0m\u001b[0;34m(\u001b[0m\u001b[0;34m)\u001b[0m \u001b[0;32mis\u001b[0m \u001b[0;32mNone\u001b[0m\u001b[0;34m:\u001b[0m\u001b[0;34m\u001b[0m\u001b[0;34m\u001b[0m\u001b[0m\n",
            "\u001b[0;32m/usr/local/lib/python3.6/dist-packages/matplotlib/image.py\u001b[0m in \u001b[0;36mset_data\u001b[0;34m(self, A)\u001b[0m\n\u001b[1;32m    632\u001b[0m         if (self._A.dtype != np.uint8 and\n\u001b[1;32m    633\u001b[0m                 not np.can_cast(self._A.dtype, float, \"same_kind\")):\n\u001b[0;32m--> 634\u001b[0;31m             \u001b[0;32mraise\u001b[0m \u001b[0mTypeError\u001b[0m\u001b[0;34m(\u001b[0m\u001b[0;34m\"Image data cannot be converted to float\"\u001b[0m\u001b[0;34m)\u001b[0m\u001b[0;34m\u001b[0m\u001b[0;34m\u001b[0m\u001b[0m\n\u001b[0m\u001b[1;32m    635\u001b[0m \u001b[0;34m\u001b[0m\u001b[0m\n\u001b[1;32m    636\u001b[0m         if not (self._A.ndim == 2\n",
            "\u001b[0;31mTypeError\u001b[0m: Image data cannot be converted to float"
          ]
        },
        {
          "output_type": "display_data",
          "data": {
            "image/png": "[encoded data removed]",
            "text/plain": [
              "<Figure size 1250x250 with 5 Axes>"
            ]
          },
          "metadata": {
            "tags": []
          }
        }
      ]
    },
    {
      "cell_type": "code",
      "metadata": {
        "id": "7M2JESOkjc8Q",
        "colab_type": "code",
        "colab": {}
      },
      "source": [
        "# %cd \"/content/drive/My Drive/Colab Notebooks/sirmlproject/wk4/data/input/test\"\n",
        "# !unzip stage_2_test_images.zip"
      ],
      "execution_count": 0,
      "outputs": []
    },
    {
      "cell_type": "code",
      "metadata": {
        "id": "RiuLqHlmZvKk",
        "colab_type": "code",
        "colab": {}
      },
      "source": [
        "plot_params = get_reset_plot_params()\n",
        "\n",
        "plot_params['figsize'] = (18,4)\n",
        "\n",
        "plot_params['title_fontsize'] = 13\n",
        "plot_params['label_fontsize'] = 10\n",
        "\n",
        "plot_params['title'] = \"Number of Cases\"\n",
        "\n",
        "plot_params['subplot'] = 131\n",
        "\n",
        "show_train_val_test(training_dir, validation_dir, testing_dir, plot_params)\n",
        "classes = os.listdir(training_dir)\n",
        "classes = [name_correct(i) for i in classes]"
      ],
      "execution_count": 0,
      "outputs": []
    },
    {
      "cell_type": "markdown",
      "metadata": {
        "id": "_xHF7EUmsWdr",
        "colab_type": "text"
      },
      "source": [
        "# Image Preprocessing/ Augmentation/ Transformation for Training, Validation, Testing and Dataset"
      ]
    },
    {
      "cell_type": "code",
      "metadata": {
        "id": "f6yzyKusscYY",
        "colab_type": "code",
        "colab": {}
      },
      "source": [
        "# batch_size = 32\n",
        "\n",
        "# target_size = (299, 299)\n",
        "# color_mode = \"rgb\"\n",
        "\n",
        "\n",
        "rescale = 1./255\n",
        "target_size = (150, 150)\n",
        "batch_size = 163\n",
        "class_mode = \"categorical\"\n",
        "# class_mode = \"binary\"\n",
        "\n",
        "\n",
        "train_datagen = ImageDataGenerator(\n",
        "    rescale=rescale,\n",
        "    shear_range=0.2,\n",
        "    zoom_range=0.2,\n",
        "    horizontal_flip=True)\n",
        "\n",
        "\n",
        "train_generator = train_datagen.flow_from_directory(\n",
        "    training_dir,\n",
        "    target_size=target_size,\n",
        "    class_mode=class_mode,\n",
        "    batch_size=batch_size,\n",
        "    shuffle=True)\n",
        "\n",
        "\n",
        "validation_datagen = ImageDataGenerator(rescale=rescale)\n",
        "\n",
        "validation_generator = validation_datagen.flow_from_directory(\n",
        "    validation_dir,\n",
        "    target_size=target_size,\n",
        "    class_mode=class_mode,\n",
        "    batch_size=dir_file_count(validation_dir),\n",
        "    shuffle = False)\n",
        "\n",
        "\n",
        "test_datagen = ImageDataGenerator(rescale=rescale)\n",
        "\n",
        "test_generator = test_datagen.flow_from_directory(\n",
        "    testing_dir,\n",
        "    target_size=target_size,\n",
        "    class_mode=class_mode,\n",
        "    batch_size=dir_file_count(testing_dir),\n",
        "    shuffle = False)\n"
      ],
      "execution_count": 0,
      "outputs": []
    },
    {
      "cell_type": "code",
      "metadata": {
        "id": "R82i69WQso8H",
        "colab_type": "code",
        "colab": {}
      },
      "source": [
        "from sklearn.utils import class_weight\n",
        "def get_weight(y):\n",
        "    class_weight_current =  class_weight.compute_class_weight('balanced', np.unique(y), y)\n",
        "    return class_weight_current"
      ],
      "execution_count": 0,
      "outputs": []
    },
    {
      "cell_type": "markdown",
      "metadata": {
        "id": "kqFGAEWZsp90",
        "colab_type": "text"
      },
      "source": [
        "# **Training Files Configuration**"
      ]
    },
    {
      "cell_type": "code",
      "metadata": {
        "id": "Ad2XRUOasuoZ",
        "colab_type": "code",
        "colab": {}
      },
      "source": [
        "class_weight = get_weight(train_generator.classes)\n",
        "class_weight"
      ],
      "execution_count": 0,
      "outputs": []
    },
    {
      "cell_type": "code",
      "metadata": {
        "id": "Z_88li65tB3S",
        "colab_type": "code",
        "colab": {}
      },
      "source": [
        "main_model_dir = output_directory + r\"models/\"\n",
        "main_log_dir = output_directory + r\"logs/\"\n",
        "\n",
        "\n",
        "clear_directory(main_log_dir)\n",
        "remove_empty_folders(main_model_dir, False)\n",
        "\n",
        "\n",
        "model_dir = main_model_dir + time.strftime('%Y-%m-%d %H-%M-%S') + \"/\"\n",
        "log_dir = main_log_dir + time.strftime('%Y-%m-%d %H-%M-%S')\n",
        "\n",
        "create_directory(model_dir, remove=True)\n",
        "create_directory(log_dir, remove=True)\n",
        "\n",
        "model_file = model_dir + \"{epoch:02d}-val_acc-{val_acc:.2f}-val_loss-{val_loss:.2f}.hdf5\""
      ],
      "execution_count": 0,
      "outputs": []
    },
    {
      "cell_type": "markdown",
      "metadata": {
        "id": "1CrXmwPytGCm",
        "colab_type": "text"
      },
      "source": [
        "# Callbacks"
      ]
    },
    {
      "cell_type": "code",
      "metadata": {
        "id": "VldxB7BLtHkH",
        "colab_type": "code",
        "colab": {}
      },
      "source": [
        "eset_graph()\n",
        "reset_callbacks()"
      ],
      "execution_count": 0,
      "outputs": []
    },
    {
      "cell_type": "code",
      "metadata": {
        "id": "XBPT5AWhtLiz",
        "colab_type": "code",
        "colab": {}
      },
      "source": [
        "print(\"Settting Callbacks at \", date_time(1))\n",
        "\n",
        "checkpoint = ModelCheckpoint(\n",
        "    model_file, \n",
        "    monitor='val_acc', \n",
        "    save_best_only=True)\n",
        "\n",
        "early_stopping = EarlyStopping(\n",
        "    monitor='val_loss',\n",
        "    patience=5,\n",
        "    verbose=1,\n",
        "    restore_best_weights=True)\n",
        "\n",
        "\n",
        "tensorboard = TensorBoard(\n",
        "    log_dir=log_dir,\n",
        "    batch_size=batch_size,\n",
        "    update_freq = 'batch')\n",
        "\n",
        "\n",
        "reduce_lr = ReduceLROnPlateau(\n",
        "    monitor='val_loss',\n",
        "    patience=5,\n",
        "    cooldown=2,\n",
        "    min_lr=0.0000000001,\n",
        "    verbose=1)\n",
        "\n",
        "\n",
        "#-----------------------------------------------------------------------------------------------------------------#\n",
        "callbacks = [checkpoint, reduce_lr, early_stopping, tensorboard]\n",
        "# callbacks = [checkpoint, tensorboard]\n",
        "#-----------------------------------------------------------------------------------------------------------------#\n",
        "print(\"Set Callbacks at \", date_time(1))"
      ],
      "execution_count": 0,
      "outputs": []
    },
    {
      "cell_type": "code",
      "metadata": {
        "id": "tM5DXWdStUeq",
        "colab_type": "code",
        "colab": {}
      },
      "source": [
        "def get_conv_model():\n",
        "    model = Sequential()\n",
        "    model.add(Conv2D(16, (3, 3), activation='relu', padding=\"same\", input_shape=(3,150,150)))\n",
        "    model.add(Conv2D(16, (3, 3), padding=\"same\", activation='relu'))\n",
        "    model.add(MaxPooling2D(pool_size=(2, 2)))\n",
        "\n",
        "    model.add(Conv2D(32, (3, 3), activation='relu', padding=\"same\", input_shape=(3,150,150)))\n",
        "    model.add(Conv2D(32, (3, 3), padding=\"same\", activation='relu'))\n",
        "    model.add(MaxPooling2D(pool_size=(2, 2)))\n",
        "\n",
        "    model.add(Conv2D(64, (3, 3), activation='relu', padding=\"same\"))\n",
        "    model.add(Conv2D(64, (3, 3), padding=\"same\", activation='relu'))\n",
        "    model.add(MaxPooling2D(pool_size=(2, 2)))\n",
        "\n",
        "    model.add(Conv2D(96, (3, 3), dilation_rate=(2, 2), activation='relu', padding=\"same\"))\n",
        "    model.add(Conv2D(96, (3, 3), padding=\"valid\", activation='relu'))\n",
        "    model.add(MaxPooling2D(pool_size=(2, 2)))\n",
        "\n",
        "    model.add(Conv2D(128, (3, 3), dilation_rate=(2, 2), activation='relu', padding=\"same\"))\n",
        "    model.add(Conv2D(128, (3, 3), padding=\"valid\", activation='relu'))\n",
        "    model.add(MaxPooling2D(pool_size=(2, 2)))\n",
        "\n",
        "    model.add(Flatten())\n",
        "\n",
        "    model.add(Dense(64, activation='relu'))\n",
        "    model.add(Dropout(0.4))\n",
        "    model.add(Dense(2 , activation='softmax'))\n",
        "\n",
        "\n",
        "    print(model.summary())\n",
        "    \n",
        "    return model"
      ],
      "execution_count": 0,
      "outputs": []
    },
    {
      "cell_type": "code",
      "metadata": {
        "id": "woSBzb-1taes",
        "colab_type": "code",
        "colab": {}
      },
      "source": [
        "# Load and configure model InceptionV3 for fine-tuning with new class labels\n",
        "def get_model():    \n",
        "    \n",
        "#     base_model = InceptionV3(weights=None, include_top=False)\n",
        "    base_model = InceptionV3(weights='imagenet', include_top=False, input_shape=(150, 150, 3))\n",
        "\n",
        "    x = base_model.output\n",
        "    \n",
        "#     x = Dropout(0.5)(x)\n",
        "    \n",
        "#     x = GlobalAveragePooling2D()(x)\n",
        "    \n",
        "#     x = Dense(512, activation='relu')(x)\n",
        "#     # x = Dense(1024, activation='relu')(x)\n",
        "    \n",
        "    x = BatchNormalization()(x)\n",
        "    \n",
        "# #     predictions = Dense(2, activation='sigmoid')(x) \n",
        "    predictions = Dense(2, activation='softmax')(x) \n",
        "    \n",
        "    \n",
        "    model = Model(inputs=base_model.input, outputs=predictions)\n",
        "    \n",
        "    \n",
        "    for layer in base_model.layers:\n",
        "        layer.trainable = False\n",
        "        \n",
        "        \n",
        "#     for layer in model.layers[:249]:\n",
        "#         layer.trainable = False\n",
        "#     for layer in model.layers[249:]:\n",
        "#         layer.trainable = True\n",
        "        \n",
        "    \n",
        "    model.summary()\n",
        "        \n",
        "    return model"
      ],
      "execution_count": 0,
      "outputs": []
    },
    {
      "cell_type": "markdown",
      "metadata": {
        "id": "2aZYt422tiCl",
        "colab_type": "text"
      },
      "source": [
        "# Training/Fine-Tuning Base Model-InceptionV3 for Fine-Tuning with New Class Labels"
      ]
    },
    {
      "cell_type": "code",
      "metadata": {
        "id": "6CBl_CkZtjm7",
        "colab_type": "code",
        "colab": {}
      },
      "source": [
        "print(\"Getting Base Model\", date_time(1))\n",
        "# model = get_model()\n",
        "model = get_conv_model()\n",
        "# model = keras.models.load_model(\"data/output/models/2018-12-15 00-26-45/13-val_acc-0.70-val_loss-0.58.hdf5\")"
      ],
      "execution_count": 0,
      "outputs": []
    },
    {
      "cell_type": "code",
      "metadata": {
        "id": "SRlUIMC0tvm1",
        "colab_type": "code",
        "colab": {}
      },
      "source": [
        "print(\"Starting Trainning Model\", date_time(1))\n",
        "\n",
        "\n",
        "steps_per_epoch=len(train_generator)\n",
        "validation_steps=len(validation_generator)\n",
        "\n",
        "\n",
        "\n",
        "# lr = 0.00001\n",
        "# optimizer=optimizers.Adam(lr=lr)\n",
        "\n",
        "\n",
        "\n",
        "optimizer=optimizers.Adam()\n",
        "loss='categorical_crossentropy'\n",
        "metrics=['accuracy']\n",
        "epochs = 100\n",
        "\n",
        "\n",
        "model.compile(optimizer, loss=loss, metrics=metrics)\n",
        "\n",
        "history = model.fit_generator(\n",
        "    train_generator,\n",
        "    steps_per_epoch = steps_per_epoch,\n",
        "    epochs=epochs,\n",
        "    verbose=2,\n",
        "    callbacks=callbacks,\n",
        "    validation_data=validation_generator,\n",
        "    validation_steps=validation_steps, \n",
        "    class_weight=class_weight)\n",
        "\n",
        "print(\"Completed Model Trainning\", date_time(1))"
      ],
      "execution_count": 0,
      "outputs": []
    },
    {
      "cell_type": "markdown",
      "metadata": {
        "id": "sCzr_GA5tzRm",
        "colab_type": "text"
      },
      "source": [
        "# Model Performance Visualization over the Epochs"
      ]
    },
    {
      "cell_type": "code",
      "metadata": {
        "id": "yQX6VJ82t0Vy",
        "colab_type": "code",
        "colab": {}
      },
      "source": [
        "xlabel = 'Epoch'\n",
        "legends = ['Training', 'Validation']\n",
        "\n",
        "ylim_pad = [0.01, 0.1]\n",
        "\n",
        "\n",
        "plt.figure(figsize=(15, 5))\n",
        "\n",
        "# Plot training & validation Accuracy values\n",
        "\n",
        "y1 = history.history['acc']\n",
        "y2 = history.history['val_acc']\n",
        "\n",
        "min_y = min(min(y1), min(y2))-ylim_pad[0]\n",
        "max_y = max(max(y1), max(y2))+ylim_pad[0]\n",
        "\n",
        "\n",
        "plt.subplot(121)\n",
        "\n",
        "plt.plot(y1)\n",
        "plt.plot(y2)\n",
        "\n",
        "plt.title('Model Accuracy', fontsize=17)\n",
        "plt.xlabel(xlabel, fontsize=15)\n",
        "plt.ylabel('Accuracy', fontsize=15)\n",
        "plt.ylim(min_y, max_y)\n",
        "plt.legend(legends, loc='upper left')\n",
        "plt.grid()\n",
        "\n",
        "                         \n",
        "# Plot training & validation loss values\n",
        "    \n",
        "y1 = history.history['loss']\n",
        "y2 = history.history['val_loss']\n",
        "\n",
        "min_y = min(min(y1), min(y2))-ylim_pad[1]\n",
        "max_y = max(max(y1), max(y2))+ylim_pad[1]\n",
        "    \n",
        "    \n",
        "plt.subplot(122)\n",
        "\n",
        "plt.plot(y1)\n",
        "plt.plot(y2)\n",
        "\n",
        "plt.title('Model Loss', fontsize=17)\n",
        "plt.xlabel(xlabel, fontsize=15)\n",
        "plt.ylabel('Loss', fontsize=15)\n",
        "plt.ylim(min_y, max_y)\n",
        "plt.legend(legends, loc='upper left')\n",
        "plt.grid()\n",
        "                         \n",
        "plt.show()"
      ],
      "execution_count": 0,
      "outputs": []
    },
    {
      "cell_type": "markdown",
      "metadata": {
        "id": "hFgLXTd6t6H0",
        "colab_type": "text"
      },
      "source": [
        "# Test Saved Models"
      ]
    },
    {
      "cell_type": "code",
      "metadata": {
        "id": "mIgeLXUOt-U5",
        "colab_type": "code",
        "colab": {}
      },
      "source": [
        "dir_name = r\"data/output/models/\"\n",
        "dirs = os.listdir(dir_name)\n",
        "for i in range(len(dirs)):\n",
        "    print(i, dirs[i])"
      ],
      "execution_count": 0,
      "outputs": []
    },
    {
      "cell_type": "code",
      "metadata": {
        "id": "7xtoAtFvuHx-",
        "colab_type": "code",
        "colab": {}
      },
      "source": [
        "cur_dir =dir_name+dirs[0]+\"/\"\n",
        "model_names = os.listdir(cur_dir)\n",
        "for i in range(len(model_names)):\n",
        "    print(i, model_names[i])"
      ],
      "execution_count": 0,
      "outputs": []
    },
    {
      "cell_type": "code",
      "metadata": {
        "id": "u5pDMNJZuNw7",
        "colab_type": "code",
        "colab": {}
      },
      "source": [
        "model_file = cur_dir+model_names[5]\n",
        "\n",
        "print(model_file)"
      ],
      "execution_count": 0,
      "outputs": []
    },
    {
      "cell_type": "code",
      "metadata": {
        "id": "TLIxdo9KuUUo",
        "colab_type": "code",
        "colab": {}
      },
      "source": [
        "model = keras.models.load_model(model_file)"
      ],
      "execution_count": 0,
      "outputs": []
    },
    {
      "cell_type": "code",
      "metadata": {
        "id": "-W4lrYBWuZlb",
        "colab_type": "code",
        "colab": {}
      },
      "source": [
        "print(\"results\")\n",
        "result  = model.evaluate_generator(test_generator, steps=len(test_generator), verbose=1)\n",
        "\n",
        "print(\"%s%.2f  \"% (\"Loss     : \", result[0]))\n",
        "print(\"%s%.2f%s\"% (\"Accuracy : \", result[1]*100, \"%\"))"
      ],
      "execution_count": 0,
      "outputs": []
    },
    {
      "cell_type": "code",
      "metadata": {
        "id": "Z8idOUn0ufEr",
        "colab_type": "code",
        "colab": {}
      },
      "source": [
        "print(\"results\")\n",
        "y_pred = model.predict_generator(test_generator, steps=len(test_generator), verbose=1)  \n",
        "y_pred = y_pred.argmax(axis=-1)\n",
        "y_true=test_generator.classes"
      ],
      "execution_count": 0,
      "outputs": []
    },
    {
      "cell_type": "code",
      "metadata": {
        "id": "haytqoUmuZpx",
        "colab_type": "code",
        "colab": {}
      },
      "source": [
        "image_file_name_CM = figure_directory+\"/CM\"\n",
        "\n",
        "title = model_file.split(\"/\")\n",
        "model_title = \"/\".join([i for i in title[3:]])\n",
        "\n",
        "precision = precision_score(y_true, y_pred) \n",
        "recall = recall_score(y_true, y_pred) \n",
        "f1 = f1_score(y_true, y_pred) \n",
        "\n",
        "print(\"-\"*90)\n",
        "print(\"Derived Report\")\n",
        "print(\"-\"*90)\n",
        "print(\"%s%.2f%s\"% (\"Precision     : \", precision*100, \"%\"))\n",
        "print(\"%s%.2f%s\"% (\"Recall        : \", recall*100,    \"%\"))\n",
        "print(\"%s%.2f%s\"% (\"F1-Score      : \", f1*100,        \"%\"))\n",
        "print(\"-\"*90)\n",
        "print(\"\\n\\n\")\n",
        "\n",
        "CM = confusion_matrix(y_true, y_pred)\n",
        "\n",
        "fig, ax = plot_confusion_matrix(conf_mat=CM ,  figsize=(10,8), hide_ticks=True,cmap=plt.cm.Blues)\n",
        "plt.xticks(range(len(classes)), classes, fontsize=12)\n",
        "plt.yticks(range(len(classes)), classes, fontsize=12)\n",
        "plt.title(\"Confusion Matrix for Model File (Test Dataset): \\n\"+model_title, fontsize=11)\n",
        "fig.savefig(image_file_name_CM, dpi=100)\n",
        "plt.show()\n",
        "    \n",
        "\n",
        "cls_report_print = classification_report(y_true, y_pred, target_names=classes)\n",
        "\n",
        "cls_report = classification_report(y_true, y_pred, target_names=classes, output_dict=True)\n",
        "\n",
        "print(\"\\n\\n\")\n",
        "print(\"-\"*90)\n",
        "print(\"Report for Model File: \", model_title)\n",
        "print(\"-\"*90)\n",
        "print(cls_report_print)\n",
        "print(\"-\"*90)"
      ],
      "execution_count": 0,
      "outputs": []
    },
    {
      "cell_type": "code",
      "metadata": {
        "id": "n7egZMD-uo89",
        "colab_type": "code",
        "colab": {}
      },
      "source": [
        "numofbatch = len(test_generator)\n",
        "\n",
        "batch_no = random.randint(0, numofbatch-1)\n",
        "\n",
        "y_img_batch, y_true_batch = test_generator[batch_no] \n",
        "y_true_batch = y_true_batch.argmax(axis=-1)\n",
        "\n",
        "y_pred_batch = model.predict(y_img_batch)\n",
        "y_pred_batch = y_pred_batch.argmax(axis=-1)\n",
        "\n",
        "\n",
        "sizeofbatch = len(y_true_batch)\n",
        "print(\"-\"*35)\n",
        "print(\"%s%d\"%     (\"Selected Batch No       : \", batch_no))\n",
        "print(\"-\"*35)\n",
        "print(\"%s%d\"%     (\"Batch Size              : \", len(y_pred_batch)))\n",
        "print(\"-\"*35)\n",
        "print(\"%s%.2f%s\"% (\"Accuracy                : \", np.mean(y_true==y_pred)*100, \"%\"))\n",
        "print(\"-\"*35)"
      ],
      "execution_count": 0,
      "outputs": []
    },
    {
      "cell_type": "markdown",
      "metadata": {
        "id": "HchtySwouuC4",
        "colab_type": "text"
      },
      "source": [
        "# Visualization"
      ]
    },
    {
      "cell_type": "code",
      "metadata": {
        "id": "CuS9HacAuxkY",
        "colab_type": "code",
        "colab": {}
      },
      "source": [
        "def show_predictions(y_img_batch, y_true, y_pred, subplot_params, plot_params, class_map, testing_dir, image_file_name, count=8, sample=True):\n",
        "    fig, axs = get_fig_axs(subplot_params)\n",
        "    plt.rcParams.update({'axes.titlesize': plot_params[\"axes.titlesize\"]})\n",
        "    plt.subplots_adjust(hspace=subplot_params[\"hspace\"], wspace=subplot_params[\"wspace\"])\n",
        "    \n",
        "    file_names = test_generator.filenames\n",
        "    m = {}\n",
        "    length = len(y_true)\n",
        "    for i in range(0, count): \n",
        "        num = i\n",
        "        if sample:\n",
        "            num = random.randint(0, length-1)\n",
        "            while num in m:\n",
        "                num = int(random.randint(0, length-1))\n",
        "\n",
        "            m[num]=1\n",
        "\n",
        "\n",
        "        plt.subplot(subplot_params[\"nrows\"], subplot_params[\"ncols\"], i+1)\n",
        "        img = cv2.imread(testing_dir+\"\\\\\"+ file_names[num], 1)\n",
        "        plt.imshow(img)\n",
        "\n",
        "        plt.xticks([])\n",
        "        plt.yticks([])\n",
        "        \n",
        "        \n",
        "        original = class_map[y_true[num]]\n",
        "        predicted = class_map[y_pred[num]]\n",
        "        \n",
        "        \n",
        "        title_text = (\"%s%s%s%s%s\"%(\"True: \", original, \"\\n\", \"Pred: \", predicted))\n",
        "        \n",
        "        if original==predicted:\n",
        "            plt.title(title_text)\n",
        "        else:\n",
        "            plt.title(title_text, color='red')\n",
        "            \n",
        "\n",
        "        if plot_params[\"update_image\"] and os.path.exists(image_file_name):\n",
        "            os.remove(image_file_name)   \n",
        "\n",
        "        fig.savefig(image_file_name, dpi=subplot_params[\"dpi\"])\n",
        "\n",
        "    plt.tight_layout()\n",
        "    plt.show()"
      ],
      "execution_count": 0,
      "outputs": []
    },
    {
      "cell_type": "markdown",
      "metadata": {
        "id": "l1RGx8y5u8QV",
        "colab_type": "text"
      },
      "source": [
        "# Visualization"
      ]
    },
    {
      "cell_type": "code",
      "metadata": {
        "id": "6pTPegWwu9R1",
        "colab_type": "code",
        "colab": {}
      },
      "source": [
        "mage_file_name_batch = figure_directory+\"/result\"\n",
        "image_file_name_sample = figure_directory+\"/sample\"\n",
        "\n",
        "batch_size_t = len(y_true_batch)\n",
        "\n",
        "class_map = {v: k for k, v in test_generator.class_indices.items()}\n",
        "\n",
        "\n",
        "dpi=100\n",
        "\n",
        "\n",
        "ncols = 8\n",
        "# ncols = batch_size_t if batch_size_t<ncols else ncols     \n",
        "# nrows = batch_size_t/ncols\n",
        "# nrows = int(batch_size_t/ncols)+1 if batch_size_t%ncols else  int(batch_size_t/ncols)\n",
        "nrows = 4\n",
        "\n",
        "count = ncols*nrows\n",
        "\n",
        "\n",
        "subplot_params = get_reset_subplot_params(nrows, ncols, dpi)\n",
        "plot_params = get_reset_plot_params()"
      ],
      "execution_count": 0,
      "outputs": []
    },
    {
      "cell_type": "markdown",
      "metadata": {
        "id": "XUzEQZl6vEWs",
        "colab_type": "text"
      },
      "source": [
        "Visualization 1 (Random Batch)\n",
        "Visualization of performance of a random test dataset batch **bold text**"
      ]
    },
    {
      "cell_type": "code",
      "metadata": {
        "id": "ki6BiBsYvO7n",
        "colab_type": "code",
        "colab": {}
      },
      "source": [
        "show_predictions(y_img_batch, y_true_batch, y_pred_batch, subplot_params, plot_params, class_map, testing_dir, image_file_name_batch, count=count, sample=True)"
      ],
      "execution_count": 0,
      "outputs": []
    },
    {
      "cell_type": "markdown",
      "metadata": {
        "id": "JTIW13Afve7Q",
        "colab_type": "text"
      },
      "source": [
        "**Visualization 2 (Random)**\n",
        "Visualization of performance of a few random images from a random batch"
      ]
    },
    {
      "cell_type": "code",
      "metadata": {
        "id": "Rm1zKDeWviY4",
        "colab_type": "code",
        "colab": {}
      },
      "source": [
        "ncols = 4\n",
        "nrows = 2\n",
        "\n",
        "if batch_size_t<4:\n",
        "    cols = 1\n",
        "    \n",
        "count = cols*rows\n",
        "    \n",
        "\n",
        "subplot_params = get_reset_subplot_params(nrows, ncols, dpi)\n",
        "plot_params = get_reset_plot_params()\n",
        "\n",
        "\n",
        "show_predictions(y_img_batch, y_true_batch, y_pred_batch, subplot_params, plot_params, class_map, testing_dir, image_file_name_sample, count=count, sample=True)"
      ],
      "execution_count": 0,
      "outputs": []
    }
  ]
}